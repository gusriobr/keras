{
  "nbformat": 4,
  "nbformat_minor": 0,
  "metadata": {
    "colab": {
      "name": "Tinkering with tensors.ipynb",
      "version": "0.3.2",
      "provenance": [],
      "include_colab_link": true
    },
    "kernelspec": {
      "name": "python3",
      "display_name": "Python 3"
    },
    "accelerator": "TPU"
  },
  "cells": [
    {
      "cell_type": "markdown",
      "metadata": {
        "id": "view-in-github",
        "colab_type": "text"
      },
      "source": [
        "<a href=\"https://colab.research.google.com/github/gusriobr/keras/blob/master/Tinkering_with_tensors.ipynb\" target=\"_parent\"><img src=\"https://colab.research.google.com/assets/colab-badge.svg\" alt=\"Open In Colab\"/></a>"
      ]
    },
    {
      "metadata": {
        "id": "Crkc_9fKyNb_",
        "colab_type": "code",
        "colab": {}
      },
      "cell_type": "code",
      "source": [
        "import numpy as np \n",
        "from keras import backend as K \n",
        "import matplotlib.pyplot as plt\n",
        "from keras.layers import Input, Dense\n",
        "from keras import optimizers"
      ],
      "execution_count": 0,
      "outputs": []
    },
    {
      "metadata": {
        "id": "ZAZMRT3XyGXi",
        "colab_type": "code",
        "outputId": "201c8bcd-2ab6-4e5a-b0e4-a9ba93bc4d5a",
        "colab": {
          "base_uri": "https://localhost:8080/",
          "height": 84
        }
      },
      "cell_type": "code",
      "source": [
        "A = np.random.random((1000,32,64,3))\n",
        "# B = np.moveaxis( A, 3, 1)\n",
        "C = np.transpose( A, (0,3,1,2))\n",
        "\n",
        "print (A.shape)\n",
        "print (C.shape)\n",
        "\n",
        "A_t = K.variable(A)\n",
        "C_t = K.permute_dimensions(A_t, (0,3,1,2))\n",
        "\n",
        "print (K.eval(A_t).shape)\n",
        "print (K.eval(C_t).shape)"
      ],
      "execution_count": 44,
      "outputs": [
        {
          "output_type": "stream",
          "text": [
            "(1000, 32, 64, 3)\n",
            "(1000, 3, 32, 64)\n",
            "(1000, 32, 64, 3)\n",
            "(1000, 3, 32, 64)\n"
          ],
          "name": "stdout"
        }
      ]
    },
    {
      "metadata": {
        "id": "EPVYh0ty_Hes",
        "colab_type": "text"
      },
      "cell_type": "markdown",
      "source": [
        "Lets try to calculate the mininum of the sqrt function using tensors.\n"
      ]
    },
    {
      "metadata": {
        "id": "h9D1cPEqMTuX",
        "colab_type": "text"
      },
      "cell_type": "markdown",
      "source": [
        "**Place holders and variables**\n",
        "\n",
        "Given the expression of simple linear regression WX+B=Y, X and Y are values of the samples (observations) and hence need a place to be filled, while W and B are the weights and bias, Variables(the previous value affects the later) in the graph which should be trained using different X and Y pairs. \n",
        "\n",
        "We place different samples to the Placeholders to train the Variables.\n",
        "\n",
        "X, Y --> place holders\n",
        "W, B --> variables\n",
        "\n",
        "https://stackoverflow.com/questions/36693740/whats-the-difference-between-tf-placeholder-and-tf-variable\n"
      ]
    },
    {
      "metadata": {
        "id": "EV3dqTck_Svx",
        "colab_type": "code",
        "outputId": "133d7d56-07b3-481f-e4ae-821facd63166",
        "colab": {
          "base_uri": "https://localhost:8080/",
          "height": 134
        }
      },
      "cell_type": "code",
      "source": [
        "########################3\n",
        "# creating placeholders\n",
        "########################3\n",
        "\n",
        "inputs = K.placeholder(shape=(2, 4, 5))\n",
        "# also works:\n",
        "inputs = K.placeholder(shape=(None, 4, 5))\n",
        "# also works:\n",
        "inputs = K.placeholder(ndim=3)\n",
        "\n",
        "print(inputs)\n",
        "\n",
        "print(\"Is a placeholder a keras tensor?: {}\\n\\n\".format(K.is_keras_tensor(inputs)))\n",
        "\n",
        "########################3\n",
        "# creating variables\n",
        "########################3\n",
        "# from a numpy array\n",
        "val = np.random.random((3, 4, 5))\n",
        "var = K.variable(value=val)\n",
        "\n",
        "# all-zeros variable:\n",
        "var = K.zeros(shape=(3, 4, 5))\n",
        "# all-ones:\n",
        "var = K.ones(shape=(3, 4, 5))\n",
        "\n",
        "print (var)\n",
        "print(\"Is a variable a keras tensor?: {}\".format(K.is_keras_tensor(inputs)))\n",
        "\n",
        "\n",
        "            \n",
        "# variables can be initialized using probabilistic distributions\n",
        "a = K.random_uniform_variable(shape=(3, 4), low=0, high=1) # Uniform distribution\n",
        "b = K.random_normal_variable(shape=(3, 4), mean=0, scale=1) # Gaussian distribution\n",
        "c = K.random_binomial(shape=(3, 4))\n",
        "\n",
        "print(\"{}_ {}\".format(b.shape, c.shape))"
      ],
      "execution_count": 45,
      "outputs": [
        {
          "output_type": "stream",
          "text": [
            "Tensor(\"Placeholder_5:0\", shape=(?, ?, ?), dtype=float32)\n",
            "Is a placeholder a keras tensor?: False\n",
            "\n",
            "\n",
            "<tf.Variable 'Variable_9:0' shape=(3, 4, 5) dtype=float32_ref>\n",
            "Is a variable a keras tensor?: False\n",
            "(3, 4)_ (3, 4)\n"
          ],
          "name": "stdout"
        }
      ]
    },
    {
      "metadata": {
        "id": "cjGYNpaNVCvb",
        "colab_type": "code",
        "outputId": "7e5dd9b5-9127-4709-afcf-4968e0e00000",
        "colab": {
          "base_uri": "https://localhost:8080/",
          "height": 34
        }
      },
      "cell_type": "code",
      "source": [
        "### CREATING TENSORS\n",
        "\n",
        "keras_input = Input([10])\n",
        "\n",
        "print(\"Is an Input a keras tensor?: {}\".format(K.is_keras_tensor(keras_input)))"
      ],
      "execution_count": 46,
      "outputs": [
        {
          "output_type": "stream",
          "text": [
            "Is an Input a keras tensor?: True\n"
          ],
          "name": "stdout"
        }
      ]
    },
    {
      "metadata": {
        "id": "Sqmoow3vM9bs",
        "colab_type": "code",
        "outputId": "7edc3393-156d-4883-836e-269908885b7c",
        "colab": {
          "base_uri": "https://localhost:8080/",
          "height": 118
        }
      },
      "cell_type": "code",
      "source": [
        "# Tensor Arithmetic\n",
        "e = a + b * K.abs(c)\n",
        "f = K.dot(e, K.transpose(b))\n",
        "g = K.sum(f, axis=1)\n",
        "h = K.softmax(g)\n",
        "i = K.concatenate([b, c], axis=-1)\n",
        "\n",
        "K.eval(i)\n"
      ],
      "execution_count": 47,
      "outputs": [
        {
          "output_type": "execute_result",
          "data": {
            "text/plain": [
              "array([[-0.11409766,  0.0387001 , -0.7009329 , -1.8853498 ,  0.        ,\n",
              "         0.        ,  0.        ,  0.        ],\n",
              "       [ 1.6436895 ,  1.8386176 ,  0.5620149 ,  1.1032035 ,  0.        ,\n",
              "         0.        ,  0.        ,  0.        ],\n",
              "       [ 0.7666586 , -0.02094654, -0.3254734 ,  0.9055448 ,  0.        ,\n",
              "         0.        ,  0.        ,  0.        ]], dtype=float32)"
            ]
          },
          "metadata": {
            "tags": []
          },
          "execution_count": 47
        }
      ]
    },
    {
      "metadata": {
        "id": "oyZuQPXTTwYl",
        "colab_type": "code",
        "outputId": "e07bbdc9-e319-4433-ebfe-a2d76695c7e9",
        "colab": {
          "base_uri": "https://localhost:8080/",
          "height": 50
        }
      },
      "cell_type": "code",
      "source": [
        "###########################\n",
        "### Functions\n",
        "###########################\n",
        "inputs = K.placeholder(shape=(4,), name=\"finput\")\n",
        "\n",
        "square = K.square(inputs)\n",
        "\n",
        "f_square = K.function([inputs], [square])\n",
        "\n",
        "x = np.array([1,2,3,4])\n",
        "\n",
        "print( f_square([x]) )\n",
        "\n",
        "\n",
        "# you must feed a function with a place holder, not with a variable\n",
        "# this code will fail in the evaluation of the function asking\n",
        "# you to put a place holder in the input\n",
        "\n",
        "input_var = K.ones(shape=(4), name=\"finput\")\n",
        "\n",
        "f_square_var = K.function([input_var], [square])\n",
        "try:\n",
        "   f_square_var([x])\n",
        "except:\n",
        "  print(\"It didn't work....\")\n",
        "  pass\n",
        "\n"
      ],
      "execution_count": 48,
      "outputs": [
        {
          "output_type": "stream",
          "text": [
            "[array([ 1.,  4.,  9., 16.], dtype=float32)]\n",
            "It didn't work....\n"
          ],
          "name": "stdout"
        }
      ]
    },
    {
      "metadata": {
        "id": "zVjpnnk-Wgnv",
        "colab_type": "code",
        "outputId": "acb68d58-1129-4097-901b-3df54b6d720a",
        "colab": {
          "base_uri": "https://localhost:8080/",
          "height": 185
        }
      },
      "cell_type": "code",
      "source": [
        "## functions can have multiple inputs and multiple outputs\n",
        "\n",
        "in_a = K.placeholder(shape=(3,3), name=\"in_a\")\n",
        "in_b = K.placeholder(shape=(3,3), name=\"in_b\")\n",
        "\n",
        "f1 = K.sum(K.square(a - b))\n",
        "f2 = K.mean(a) + K.std(b)\n",
        "\n",
        "f = K.function([a,b], [f1, f2])\n",
        "\n",
        "# let get some random matrices\n",
        "m_a = np.random.randint(5, size=(3,3))\n",
        "m_b = np.random.randint(5, size=(3,3))\n",
        "print(\"a: {}\\n\\n b:{}\\n\".format(m_a,m_b))\n",
        "\n",
        "\n",
        "output = f([m_a,m_b])\n",
        "\n",
        "# lets make it by hand\n",
        "f1_expected = (m_a-m_b)*(m_a-m_b)\n",
        "f1_expected = np.sum(f1_expected.flatten())\n",
        "\n",
        "f2_expected = np.mean(m_a.flatten()) + np.std(m_b.flatten())\n",
        "\n",
        "print(\"f1 Expected: {}, tensor ouput: {}\".format(f1_expected,output[0]))\n",
        "print(\"f2 Expected: {}, tensor ouput: {}\".format(f2_expected,output[1]))\n"
      ],
      "execution_count": 49,
      "outputs": [
        {
          "output_type": "stream",
          "text": [
            "a: [[4 0 3]\n",
            " [0 0 1]\n",
            " [4 0 1]]\n",
            "\n",
            " b:[[1 1 2]\n",
            " [3 3 1]\n",
            " [0 0 4]]\n",
            "\n",
            "f1 Expected: 54, tensor ouput: 54.0\n",
            "f2 Expected: 2.7777777777777777, tensor ouput: 2.777777671813965\n"
          ],
          "name": "stdout"
        }
      ]
    },
    {
      "metadata": {
        "id": "NdYyIXFjWiN6",
        "colab_type": "code",
        "outputId": "0df061af-8048-4fa9-f867-66e1e9824671",
        "colab": {
          "base_uri": "https://localhost:8080/",
          "height": 549
        }
      },
      "cell_type": "code",
      "source": [
        "#### FUNCTION GRADIENTS\n",
        "\n",
        "in_a = K.placeholder(shape=(1), name=\"in_a\")\n",
        "in_b = K.placeholder(shape=(3,3), name=\"in_b\")\n",
        "\n",
        "f1 = K.square(in_a-5)- in_a\n",
        "\n",
        "grads = K.gradients([f1], [in_a])[0]\n",
        "\n",
        "iterate = K.function([in_a], [f1, grads])\n",
        "\n",
        "\n",
        "var_a = np.random.uniform(5, size=(1))\n",
        "values = []\n",
        "grads = []\n",
        "\n",
        "for i in range(0,11):\n",
        "  output = iterate([i])\n",
        "  values.append(output[0])\n",
        "  grads.append(output[1])\n",
        "  print(\"i:{} f1: {}, grad: {}\".format(i, output[0], output[1]))\n",
        "  \n",
        "var_i = 0\n",
        "step_size = 0.2\n",
        "min_step = 0.1\n",
        "x_values = []\n",
        "f_points = []\n",
        "current_value = 999\n",
        "last_value = 1000\n",
        "i = 0\n",
        "max_iters = 200\n",
        "\n",
        "while current_value < last_value  and i < max_iters:\n",
        "  output = iterate([var_i])\n",
        "  step = output[1] * step_size\n",
        "  if(step < min_step):\n",
        "    step = np.sign(output[1]) * min_step\n",
        "  \n",
        "  last_value = current_value\n",
        "  current_value = output[0]\n",
        "  \n",
        "  x_values.append(var_i)\n",
        "  f_points.append(current_value)\n",
        "  var_i = var_i-step\n",
        "  i = i+1\n",
        "  \n",
        "plt.plot(range(0,11), values, label=\"values\")\n",
        "plt.plot(range(0,11), grads, label=\"grads\")\n",
        "plt.plot(x_values, f_points, color='green', marker='o', linestyle='dashed',label='iterations')\n",
        "plt.legend()\n",
        "plt.show()\n",
        "\n",
        "print(\"Minimum value: {} at {}\".format(current_value, var_i))\n",
        "# lets try to calculate the minimum value of e\n"
      ],
      "execution_count": 60,
      "outputs": [
        {
          "output_type": "stream",
          "text": [
            "i:0 f1: 25.0, grad: [-11.]\n",
            "i:1 f1: 15.0, grad: [-9.]\n",
            "i:2 f1: 7.0, grad: [-7.]\n",
            "i:3 f1: 1.0, grad: [-5.]\n",
            "i:4 f1: -3.0, grad: [-3.]\n",
            "i:5 f1: -5.0, grad: [-1.]\n",
            "i:6 f1: -5.0, grad: [1.]\n",
            "i:7 f1: -3.0, grad: [3.]\n",
            "i:8 f1: 1.0, grad: [5.]\n",
            "i:9 f1: 7.0, grad: [7.]\n",
            "i:10 f1: 15.0, grad: [9.]\n"
          ],
          "name": "stdout"
        },
        {
          "output_type": "display_data",
          "data": {
            "image/png": "[encoded data removed]",
            "text/plain": [
              "<Figure size 576x396 with 1 Axes>"
            ]
          },
          "metadata": {
            "tags": []
          }
        },
        {
          "output_type": "stream",
          "text": [
            "Minimum value: [-5.2400007] at [5.499997]\n"
          ],
          "name": "stdout"
        }
      ]
    },
    {
      "metadata": {
        "id": "zZ8d3t5Bcoh9",
        "colab_type": "text"
      },
      "cell_type": "markdown",
      "source": [
        "The algorithm reaches the lowest point and stops in the next step when it detects de obtained value is greater that the last one. Not a very good strategy, but good enough to show how to use a K.function to iterate over loss and gradient."
      ]
    },
    {
      "metadata": {
        "id": "YI22EthYZYqr",
        "colab_type": "code",
        "colab": {}
      },
      "cell_type": "code",
      "source": [
        "# lets use a wrapper to calculate the mininum using scipy BFGS optimizer\n",
        "class Evaluator(object):\n",
        "\n",
        "    def __init__(self, loss_and_grad_function):\n",
        "        self.loss_value = None\n",
        "        self.grads_values = None\n",
        "        self.fetch_loss_and_grads = loss_and_grad_function\n",
        "\n",
        "    def loss(self, x):\n",
        "        assert self.loss_value is None\n",
        "        outs = self.fetch_loss_and_grads([x])\n",
        "\n",
        "        self.loss_value = outs[0]\n",
        "        self.grad_values = outs[1].flatten().astype('float64')\n",
        "        return self.loss_value\n",
        "\n",
        "    def grads(self, x):\n",
        "        grad_values = np.copy(self.grad_values)\n",
        "        self.loss_value = None\n",
        "        self.grad_values = None\n",
        "        return grad_values\n"
      ],
      "execution_count": 0,
      "outputs": []
    },
    {
      "metadata": {
        "id": "Wki74VkDZ7Iw",
        "colab_type": "code",
        "colab": {
          "base_uri": "https://localhost:8080/",
          "height": 50
        },
        "outputId": "4bc51e88-ed0a-40f5-f6ae-aa09f849b25a"
      },
      "cell_type": "code",
      "source": [
        "      \n",
        "from scipy.optimize import fmin_l_bfgs_b\n",
        "\n",
        "evaluator = Evaluator(iterate)\n",
        "iterations = 20\n",
        "x = -15 #x0\n",
        "for i in range(iterations):\n",
        "  x, min_val, info = fmin_l_bfgs_b(evaluator.loss, x,\n",
        "                                   fprime=evaluator.grads, maxfun=20)\n",
        "  \n",
        "  \n",
        "print(\"Minimum value: {}\".format(min_val))\n",
        "print(info)\n",
        "\n",
        "  "
      ],
      "execution_count": 61,
      "outputs": [
        {
          "output_type": "stream",
          "text": [
            "Minimum value: [-5.25]\n",
            "{'grad': array([0.]), 'task': b'CONVERGENCE: NORM_OF_PROJECTED_GRADIENT_<=_PGTOL', 'funcalls': 1, 'nit': 0, 'warnflag': 0}\n"
          ],
          "name": "stdout"
        }
      ]
    }
  ]
}