{
  "nbformat": 4,
  "nbformat_minor": 0,
  "metadata": {
    "colab": {
      "name": "Forecasting with neural networks.ipynb.ipynb",
      "version": "0.3.2",
      "provenance": [],
      "toc_visible": true,
      "include_colab_link": true
    },
    "kernelspec": {
      "name": "python3",
      "display_name": "Python 3"
    },
    "accelerator": "TPU"
  },
  "cells": [
    {
      "cell_type": "markdown",
      "metadata": {
        "id": "view-in-github",
        "colab_type": "text"
      },
      "source": [
        "<a href=\"https://colab.research.google.com/github/gusriobr/keras/blob/master/Forecasting_with_neural_networks_ipynb.ipynb\" target=\"_parent\"><img src=\"https://colab.research.google.com/assets/colab-badge.svg\" alt=\"Open In Colab\"/></a>"
      ]
    },
    {
      "metadata": {
        "id": "PQRis2nSJ5HR",
        "colab_type": "text"
      },
      "cell_type": "markdown",
      "source": [
        "Based on François Chollet's notebook from the book \"Deep Learning with python\"\n",
        "\n",
        "https://nbviewer.jupyter.org/github/fchollet/deep-learning-with-python-notebooks/blob/master/6.3-advanced-usage-of-recurrent-neural-networks.ipynb\n"
      ]
    },
    {
      "metadata": {
        "id": "qzilq44EJ2vQ",
        "colab_type": "code",
        "outputId": "282c356a-3761-4a96-ed88-c23b9b0b79d2",
        "colab": {
          "base_uri": "https://localhost:8080/",
          "height": 50
        }
      },
      "cell_type": "code",
      "source": [
        "from keras import backend as K\n",
        "from keras import layers\n",
        "from keras.preprocessing import sequence\n",
        "from keras.models import Sequential\n",
        "from keras.optimizers import RMSprop\n",
        "import matplotlib.pyplot as plt\n",
        "import numpy as np\n",
        "\n",
        "\n",
        "import keras\n",
        "keras.__version__\n"
      ],
      "execution_count": 2,
      "outputs": [
        {
          "output_type": "stream",
          "text": [
            "Using TensorFlow backend.\n"
          ],
          "name": "stderr"
        },
        {
          "output_type": "execute_result",
          "data": {
            "text/plain": [
              "'2.2.4'"
            ]
          },
          "metadata": {
            "tags": []
          },
          "execution_count": 2
        }
      ]
    },
    {
      "metadata": {
        "id": "JfJMAKsZJ2vX",
        "colab_type": "text"
      },
      "cell_type": "markdown",
      "source": [
        "# Advanced usage of recurrent neural networks\n",
        "\n",
        "This notebook contains the code samples found in Chapter 6, Section 3 of [Deep Learning with Python](https://www.manning.com/books/deep-learning-with-python?a_aid=keras&a_bid=76564dff). Note that the original text features far more content, in particular further explanations and figures: in this notebook, you will only find source code and related comments.\n",
        "\n",
        "---\n",
        "\n",
        "In this section, we will review three advanced techniques for improving the performance and generalization power of recurrent neural \n",
        "networks. By the end of the section, you will know most of what there is to know about using recurrent networks with Keras. We will \n",
        "demonstrate all three concepts on a weather forecasting problem, where we have access to a timeseries of data points coming from sensors \n",
        "installed on the roof of a building, such as temperature, air pressure, and humidity, which we use to predict what the temperature will be \n",
        "24 hours after the last data point collected. This is a fairly challenging problem that exemplifies many common difficulties encountered \n",
        "when working with timeseries.\n",
        "\n",
        "We will cover the following techniques:\n",
        "\n",
        "* *Recurrent dropout*, a specific, built-in way to use dropout to fight overfitting in recurrent layers.\n",
        "* *Stacking recurrent layers*, to increase the representational power of the network (at the cost of higher computational loads).\n",
        "* *Bidirectional recurrent layers*, which presents the same information to a recurrent network in different ways, increasing accuracy and \n",
        "mitigating forgetting issues."
      ]
    },
    {
      "metadata": {
        "id": "2OKSrcBlcViH",
        "colab_type": "text"
      },
      "cell_type": "markdown",
      "source": [
        "# Nueva sección"
      ]
    },
    {
      "metadata": {
        "id": "d6x53bWqJ2vZ",
        "colab_type": "text"
      },
      "cell_type": "markdown",
      "source": [
        "## A temperature forecasting problem\n",
        "\n",
        "Until now, the only sequence data we have covered has been text data, for instance the IMDB dataset and the Reuters dataset. But sequence \n",
        "data is found in many more problems than just language processing. In all of our examples in this section, we will be playing with a weather \n",
        "timeseries dataset recorded at the Weather Station at the Max-Planck-Institute for Biogeochemistry in Jena, Germany: http://www.bgc-jena.mpg.de/wetter/.\n",
        "\n",
        "In this dataset, fourteen different quantities (such air temperature, atmospheric pressure, humidity, wind direction, etc.) are recorded \n",
        "every ten minutes, over several years. The original data goes back to 2003, but we limit ourselves to data from 2009-2016. This dataset is \n",
        "perfect for learning to work with numerical timeseries. We will use it to build a model that takes as input some data from the recent past (a \n",
        "few days worth of data points) and predicts the air temperature 24 hours in the future."
      ]
    },
    {
      "metadata": {
        "id": "emX83TNLJ2va",
        "colab_type": "text"
      },
      "cell_type": "markdown",
      "source": [
        "Let's take a look at the data:"
      ]
    },
    {
      "metadata": {
        "id": "N1b1NBi7J2vc",
        "colab_type": "code",
        "outputId": "0c97a151-8b7e-407d-c8e9-88d9f839605c",
        "colab": {
          "base_uri": "https://localhost:8080/",
          "height": 289
        }
      },
      "cell_type": "code",
      "source": [
        "import os\n",
        "\n",
        "!wget https://s3.amazonaws.com/keras-datasets/jena_climate_2009_2016.csv.zip\n",
        "!unzip -o jena_climate_2009_2016.csv.zip\n",
        "\n",
        "fname = 'jena_climate_2009_2016.csv'\n",
        "\n",
        "f = open(fname)\n",
        "data = f.read()\n",
        "f.close()\n",
        "\n",
        "lines = data.split('\\n')\n",
        "header = lines[0].split(',')\n",
        "lines = lines[1:]\n",
        "\n",
        "print(header)\n",
        "print(len(lines))"
      ],
      "execution_count": 4,
      "outputs": [
        {
          "output_type": "stream",
          "text": [
            "--2019-01-18 05:03:53--  https://s3.amazonaws.com/keras-datasets/jena_climate_2009_2016.csv.zip\n",
            "Resolving s3.amazonaws.com (s3.amazonaws.com)... 52.216.129.237\n",
            "Connecting to s3.amazonaws.com (s3.amazonaws.com)|52.216.129.237|:443... connected.\n",
            "HTTP request sent, awaiting response... 200 OK\n",
            "Length: 13568290 (13M) [application/zip]\n",
            "Saving to: ‘jena_climate_2009_2016.csv.zip’\n",
            "\n",
            "jena_climate_2009_2 100%[===================>]  12.94M  31.2MB/s    in 0.4s    \n",
            "\n",
            "2019-01-18 05:03:53 (31.2 MB/s) - ‘jena_climate_2009_2016.csv.zip’ saved [13568290/13568290]\n",
            "\n",
            "Archive:  jena_climate_2009_2016.csv.zip\n",
            "  inflating: jena_climate_2009_2016.csv  \n",
            "['\"Date Time\"', '\"p (mbar)\"', '\"T (degC)\"', '\"Tpot (K)\"', '\"Tdew (degC)\"', '\"rh (%)\"', '\"VPmax (mbar)\"', '\"VPact (mbar)\"', '\"VPdef (mbar)\"', '\"sh (g/kg)\"', '\"H2OC (mmol/mol)\"', '\"rho (g/m**3)\"', '\"wv (m/s)\"', '\"max. wv (m/s)\"', '\"wd (deg)\"']\n",
            "420551\n"
          ],
          "name": "stdout"
        }
      ]
    },
    {
      "metadata": {
        "id": "oCwWAi9PJ2vf",
        "colab_type": "text"
      },
      "cell_type": "markdown",
      "source": [
        "Let's convert all of these 420,551 lines of data into a Numpy array:"
      ]
    },
    {
      "metadata": {
        "id": "srhc7wi0J2vg",
        "colab_type": "code",
        "colab": {}
      },
      "cell_type": "code",
      "source": [
        "import numpy as np\n",
        "\n",
        "float_data = np.zeros((len(lines), len(header) - 1))\n",
        "for i, line in enumerate(lines):\n",
        "    values = [float(x) for x in line.split(',')[1:]]\n",
        "    float_data[i, :] = values"
      ],
      "execution_count": 0,
      "outputs": []
    },
    {
      "metadata": {
        "id": "ItSpoW6cJ2vi",
        "colab_type": "text"
      },
      "cell_type": "markdown",
      "source": [
        "For instance, here is the plot of temperature (in degrees Celsius) over time:"
      ]
    },
    {
      "metadata": {
        "id": "rkZEff4oJ2vj",
        "colab_type": "code",
        "outputId": "7cc312ae-bcc9-4f9d-d0f3-2bbe74f0bb22",
        "colab": {
          "base_uri": "https://localhost:8080/",
          "height": 350
        }
      },
      "cell_type": "code",
      "source": [
        "from matplotlib import pyplot as plt\n",
        "\n",
        "temp = float_data[:, 1]  # temperature (in degrees Celsius)\n",
        "plt.plot(range(len(temp)), temp)\n",
        "plt.show()"
      ],
      "execution_count": 0,
      "outputs": [
        {
          "output_type": "display_data",
          "data": {
            "image/png": "[encoded data removed]",
            "text/plain": [
              "<Figure size 576x396 with 1 Axes>"
            ]
          },
          "metadata": {
            "tags": []
          }
        }
      ]
    },
    {
      "metadata": {
        "id": "iLFrWkpWJ2vm",
        "colab_type": "text"
      },
      "cell_type": "markdown",
      "source": [
        "\n",
        "On this plot, you can clearly see the yearly periodicity of temperature.\n",
        "\n",
        "Here is a more narrow plot of the first ten days of temperature data (since the data is recorded every ten minutes, we get 144 data points \n",
        "per day):"
      ]
    },
    {
      "metadata": {
        "id": "BfezEbbiJ2vm",
        "colab_type": "code",
        "outputId": "ce6f13f4-bc12-44d1-d741-5dd319092cf2",
        "colab": {
          "base_uri": "https://localhost:8080/",
          "height": 347
        }
      },
      "cell_type": "code",
      "source": [
        "plt.plot(range(1440), temp[:1440])\n",
        "plt.show()"
      ],
      "execution_count": 0,
      "outputs": [
        {
          "output_type": "display_data",
          "data": {
            "image/png": "[encoded data removed]",
            "text/plain": [
              "<Figure size 576x396 with 1 Axes>"
            ]
          },
          "metadata": {
            "tags": []
          }
        }
      ]
    },
    {
      "metadata": {
        "id": "YBtfPAsGJ2vq",
        "colab_type": "text"
      },
      "cell_type": "markdown",
      "source": [
        "\n",
        "On this plot, you can see daily periodicity, especially evident for the last 4 days. We can also note that this ten-days period must be \n",
        "coming from a fairly cold winter month.\n",
        "\n",
        "If we were trying to predict average temperature for the next month given a few month of past data, the problem would be easy, due to the \n",
        "reliable year-scale periodicity of the data. But looking at the data over a scale of days, the temperature looks a lot more chaotic. So is \n",
        "this timeseries predictable at a daily scale? Let's find out."
      ]
    },
    {
      "metadata": {
        "id": "Z4w3yN7iJ2vq",
        "colab_type": "text"
      },
      "cell_type": "markdown",
      "source": [
        "## Preparing the data\n",
        "\n",
        "\n",
        "The exact formulation of our problem will be the following: given data going as far back as `lookback` timesteps (a timestep is 10 minutes) \n",
        "and sampled every `steps` timesteps, can we predict the temperature in `delay` timesteps?\n",
        "\n",
        "We will use the following parameter values:\n",
        "\n",
        "* `lookback = 720`, i.e. our observations will go back 5 days.\n",
        "* `steps = 6`, i.e. our observations will be sampled at one data point per hour.\n",
        "* `delay = 144`, i.e. our targets will be 24 hours in the future.\n",
        "\n",
        "To get started, we need to do two things:\n",
        "\n",
        "* Preprocess the data to a format a neural network can ingest. This is easy: the data is already numerical, so we don't need to do any \n",
        "vectorization. However each timeseries in the data is on a different scale (e.g. temperature is typically between -20 and +30, but \n",
        "pressure, measured in mbar, is around 1000). So we will normalize each timeseries independently so that they all take small values on a \n",
        "similar scale.\n",
        "* Write a Python generator that takes our current array of float data and yields batches of data from the recent past, alongside with a \n",
        "target temperature in the future. Since the samples in our dataset are highly redundant (e.g. sample `N` and sample `N + 1` will have most \n",
        "of their timesteps in common), it would be very wasteful to explicitly allocate every sample. Instead, we will generate the samples on the \n",
        "fly using the original data.\n",
        "\n",
        "We preprocess the data by subtracting the mean of each timeseries and dividing by the standard deviation. We plan on using the first \n",
        "200,000 timesteps as training data, so we compute the mean and standard deviation only on this fraction of the data:"
      ]
    },
    {
      "metadata": {
        "id": "dZlzmcxwJ2vq",
        "colab_type": "code",
        "outputId": "4e35e3ee-2d3a-47b8-f88d-61682aacbe5d",
        "colab": {
          "base_uri": "https://localhost:8080/",
          "height": 84
        }
      },
      "cell_type": "code",
      "source": [
        "print(float_data[:200000][1])\n",
        "\n",
        "mean = float_data[:200000].mean(axis=0)\n",
        "float_data -= mean\n",
        "std = float_data[:200000].std(axis=0)\n",
        "float_data /= std\n",
        "\n",
        "mean_temp = mean[1]\n",
        "std_temp = std[1]\n",
        "print(\"temperature mean and std: {}, {}\".format(mean_temp, std_temp))"
      ],
      "execution_count": 6,
      "outputs": [
        {
          "output_type": "stream",
          "text": [
            "[ 9.9657e+02 -8.4100e+00  2.6501e+02 -9.2800e+00  9.3400e+01  3.2300e+00\n",
            "  3.0200e+00  2.1000e-01  1.8900e+00  3.0300e+00  1.3098e+03  7.2000e-01\n",
            "  1.5000e+00  1.3610e+02]\n",
            "temperature mean and std: 9.077348950000042, 8.85249908220462\n"
          ],
          "name": "stdout"
        }
      ]
    },
    {
      "metadata": {
        "id": "6JeEBT8FJ2vs",
        "colab_type": "text"
      },
      "cell_type": "markdown",
      "source": [
        "\n",
        "Now here is the data generator that we will use. It yields a tuple `(samples, targets)` where `samples` is one batch of input data and \n",
        "`targets` is the corresponding array of target temperatures. It takes the following arguments:\n",
        "\n",
        "* `data`: The original array of floating point data, which we just normalized in the code snippet above.\n",
        "* `lookback`: How many timesteps back should our input data go.\n",
        "* `delay`: How many timesteps in the future should our target be.\n",
        "* `min_index` and `max_index`: Indices in the `data` array that delimit which timesteps to draw from. This is useful for keeping a segment \n",
        "of the data for validation and another one for testing.\n",
        "* `shuffle`: Whether to shuffle our samples or draw them in chronological order.\n",
        "* `batch_size`: The number of samples per batch.\n",
        "* `step`: The period, in timesteps, at which we sample data. We will set it 6 in order to draw one data point every hour."
      ]
    },
    {
      "metadata": {
        "id": "ikdrJlIRJ2vu",
        "colab_type": "code",
        "colab": {}
      },
      "cell_type": "code",
      "source": [
        "def generator(data, lookback, delay, min_index, max_index,\n",
        "              shuffle=False, batch_size=128, step=6):\n",
        "    if max_index is None:\n",
        "        max_index = len(data) - delay - 1\n",
        "    i = min_index + lookback\n",
        "    while 1:\n",
        "        if shuffle:\n",
        "            rows = np.random.randint(\n",
        "                min_index + lookback, max_index, size=batch_size)\n",
        "        else:\n",
        "            if i + batch_size >= max_index:\n",
        "                i = min_index + lookback\n",
        "            rows = np.arange(i, min(i + batch_size, max_index))\n",
        "            i += len(rows)\n",
        "\n",
        "        samples = np.zeros((len(rows),\n",
        "                           lookback // step,\n",
        "                           data.shape[-1]))\n",
        "        targets = np.zeros((len(rows),))\n",
        "        for j, row in enumerate(rows):\n",
        "            indices = range(rows[j] - lookback, rows[j], step)\n",
        "            samples[j] = data[indices]\n",
        "            targets[j] = data[rows[j] + delay][1]\n",
        "        yield samples, targets"
      ],
      "execution_count": 0,
      "outputs": []
    },
    {
      "metadata": {
        "id": "I0_-NDdIVMOq",
        "colab_type": "code",
        "colab": {}
      },
      "cell_type": "code",
      "source": [
        "def plot_validation(history, name):\n",
        "\n",
        "    epochs = range(len(history.history['loss']))\n",
        "\n",
        "    plt.figure()\n",
        "\n",
        "    plt.plot(epochs, history.history['loss'], 'bo', label='Training loss')\n",
        "    if 'val_loss' in history.history:\n",
        "      plt.plot(epochs, history.history['val_loss'], 'b', label='Validation loss')\n",
        "    plt.title('Training and validation loss')\n",
        "    plt.legend()\n",
        "    plt.savefig(name)\n",
        "\n",
        "    plt.show()\n",
        " "
      ],
      "execution_count": 0,
      "outputs": []
    },
    {
      "metadata": {
        "id": "WKFJX8BfJ2vw",
        "colab_type": "text"
      },
      "cell_type": "markdown",
      "source": [
        "\n",
        "Now let's use our abstract generator function to instantiate three generators, one for training, one for validation and one for testing. \n",
        "Each will look at different temporal segments of the original data: the training generator looks at the first 200,000 timesteps, the \n",
        "validation generator looks at the following 100,000, and the test generator looks at the remainder."
      ]
    },
    {
      "metadata": {
        "id": "YYWKYf65J2vw",
        "colab_type": "code",
        "colab": {}
      },
      "cell_type": "code",
      "source": [
        "lookback = 720\n",
        "step = 6\n",
        "delay = 144\n",
        "batch_size = 128\n",
        "\n",
        "train_gen = generator(float_data,\n",
        "                      lookback=lookback,\n",
        "                      delay=delay,\n",
        "                      min_index=0,\n",
        "                      max_index=200000,\n",
        "                      shuffle=True,\n",
        "                      step=step, \n",
        "                      batch_size=batch_size)\n",
        "val_gen = generator(float_data,\n",
        "                    lookback=lookback,\n",
        "                    delay=delay,\n",
        "                    min_index=200001,\n",
        "                    max_index=300000,\n",
        "                    step=step,\n",
        "                    batch_size=batch_size)\n",
        "test_gen = generator(float_data,\n",
        "                     lookback=lookback,\n",
        "                     delay=delay,\n",
        "                     min_index=300001,\n",
        "                     max_index=None,\n",
        "                     step=step,\n",
        "                     batch_size=batch_size)\n",
        "\n",
        "# This is how many steps to draw from `val_gen`\n",
        "# in order to see the whole validation set:\n",
        "val_steps = (300000 - 200001 - lookback) // batch_size\n",
        "\n",
        "# This is how many steps to draw from `test_gen`\n",
        "# in order to see the whole test set:\n",
        "test_steps = (len(float_data) - 300001 - lookback) // batch_size"
      ],
      "execution_count": 0,
      "outputs": []
    },
    {
      "metadata": {
        "id": "w0VC2h2yLrR_",
        "colab_type": "code",
        "outputId": "1ae42bf2-e735-4203-e7d0-71ab0c0bdd3b",
        "colab": {
          "base_uri": "https://localhost:8080/",
          "height": 269
        }
      },
      "cell_type": "code",
      "source": [
        "# make a call on the generator to see what's giving\n",
        "sample, target = next(train_gen)\n",
        "print(\"sample and target lengths: {},  {}\".format(len(sample), len(target)))\n",
        "\n",
        "print(\"Samples shape: {}\".format(sample.shape)) # 720/6 = 240\n",
        "sample[0,:]"
      ],
      "execution_count": 10,
      "outputs": [
        {
          "output_type": "stream",
          "text": [
            "sample and target lengths: 128,  128\n",
            "Samples shape: (128, 120, 14)\n"
          ],
          "name": "stdout"
        },
        {
          "output_type": "execute_result",
          "data": {
            "text/plain": [
              "array([[ 0.77633306, -1.00393673, -1.05507185, ..., -0.26095722,\n",
              "        -0.10705455, -0.51282043],\n",
              "       [ 0.71973218, -0.73847497, -0.78812944, ..., -0.53427648,\n",
              "        -0.67341457, -0.02790605],\n",
              "       [ 0.61360553, -0.4865687 , -0.53012233, ...,  0.26615849,\n",
              "         0.40352759, -0.07177926],\n",
              "       ...,\n",
              "       [ 0.46266986, -1.18128778, -1.20697214, ...,  0.92993383,\n",
              "         0.67812639, -1.36269059],\n",
              "       [ 0.53342096, -1.21517651, -1.24606412, ...,  1.2488063 ,\n",
              "         1.01279367, -1.34571859],\n",
              "       [ 0.57940917, -1.22986163, -1.26393474, ...,  0.07743805,\n",
              "        -0.0684391 , -1.28741341]])"
            ]
          },
          "metadata": {
            "tags": []
          },
          "execution_count": 10
        }
      ]
    },
    {
      "metadata": {
        "id": "fnzfP1I_J2vz",
        "colab_type": "text"
      },
      "cell_type": "markdown",
      "source": [
        "## A common sense, non-machine learning baseline\n",
        "\n",
        "\n",
        "Before we start leveraging black-box deep learning models to solve our temperature prediction problem, let's try out a simple common-sense \n",
        "approach. It will serve as a sanity check, and it will establish a baseline that we will have to beat in order to demonstrate the \n",
        "usefulness of more advanced machine learning models. Such common-sense baselines can be very useful when approaching a new problem for \n",
        "which there is no known solution (yet). \n",
        "\n",
        "In our case, the temperature timeseries can safely be assumed to be continuous as well as periodical with a daily period. Thus a common sense approach would be to always predict that the temperature 24 hours from now will be equal to the temperature right now. Let's evaluate this approach, using the Mean Absolute Error metric (MAE). \n",
        "Mean Absolute Error is simply equal to: \n",
        "\n",
        "```\n",
        "np.mean(np.abs(preds - targets))\n",
        "```\n"
      ]
    },
    {
      "metadata": {
        "id": "leisLrn4J2v2",
        "colab_type": "text"
      },
      "cell_type": "markdown",
      "source": [
        "Here's our evaluation loop:"
      ]
    },
    {
      "metadata": {
        "id": "IU2BcYeeJ2v3",
        "colab_type": "code",
        "outputId": "9d4a7d00-8e68-4489-ebc7-24525b636027",
        "colab": {
          "base_uri": "https://localhost:8080/",
          "height": 34
        }
      },
      "cell_type": "code",
      "source": [
        "def evaluate_naive_method():\n",
        "  batch_maes = []\n",
        "  for step in range(val_steps):\n",
        "      samples, targets = next(val_gen)\n",
        "      preds = samples[:, -1, 1]\n",
        "      mae = np.mean(np.abs(preds - targets))\n",
        "      batch_maes.append(mae)\n",
        "  return np.mean(batch_maes)\n",
        "    \n",
        "error = evaluate_naive_method()\n",
        "print(\"MAE: {}, Celsius mae error: {:0.3f} ºC\".format(error,error*std_temp))"
      ],
      "execution_count": 0,
      "outputs": [
        {
          "output_type": "stream",
          "text": [
            "MAE: 0.2905218778760465, Celsius mae error: 2.572 ºC\n"
          ],
          "name": "stdout"
        }
      ]
    },
    {
      "metadata": {
        "id": "KdLwnxKgJ2v6",
        "colab_type": "text"
      },
      "cell_type": "markdown",
      "source": [
        "It yields a MAE of 0.29. Since our temperature data has been normalized to be centered on 0 and have a standard deviation of one, this \n",
        "number is not immediately interpretable. It translates to an average absolute error of `0.29 * temperature_std` degrees Celsius, i.e. \n",
        "2.57˚C. That's a fairly large average absolute error -- now the game is to leverage our knowledge of deep learning to do better. "
      ]
    },
    {
      "metadata": {
        "id": "gK_UTBY5J2v7",
        "colab_type": "text"
      },
      "cell_type": "markdown",
      "source": [
        "## A basic machine learning approach\n",
        "\n",
        "In the same way that it is useful to establish a common sense baseline before trying machine learning approaches, it is useful to try \n",
        "simple and cheap machine learning models (such as small densely-connected networks) before looking into complicated and computationally \n",
        "expensive models such as RNNs. This is the best way to make sure that any further complexity we throw at the problem later on is legitimate \n",
        "and delivers real benefits.\n",
        "\n",
        "Here is a simply fully-connected model in which we start by flattening the data, then run it through two `Dense` layers. Note the lack of \n",
        "activation function on the last `Dense` layer, which is typical for a regression problem. We use MAE as the loss. Since we are evaluating \n",
        "on the exact same data and with the exact same metric as with our common sense approach, the results will be directly comparable."
      ]
    },
    {
      "metadata": {
        "id": "DEG4BPwFJ2v7",
        "colab_type": "code",
        "outputId": "c802fd94-2c79-4eff-ef93-5421b6275747",
        "colab": {
          "base_uri": "https://localhost:8080/",
          "height": 689
        }
      },
      "cell_type": "code",
      "source": [
        "from keras.models import Sequential\n",
        "from keras import layers\n",
        "from keras.optimizers import RMSprop\n",
        "\n",
        "model = Sequential()\n",
        "model.add(layers.Flatten(input_shape=(lookback // step, float_data.shape[-1])))\n",
        "model.add(layers.Dense(32, activation='relu'))\n",
        "model.add(layers.Dense(1))\n",
        "\n",
        "model.compile(optimizer=RMSprop(), loss='mae')\n",
        "history = model.fit_generator(train_gen,\n",
        "                              steps_per_epoch=500,\n",
        "                              epochs=20,\n",
        "                              validation_data=val_gen,\n",
        "                              validation_steps=val_steps)"
      ],
      "execution_count": 0,
      "outputs": [
        {
          "output_type": "stream",
          "text": [
            "Epoch 1/20\n",
            "500/500 [==============================] - 11s 22ms/step - loss: 0.7139 - val_loss: 0.3899\n",
            "Epoch 2/20\n",
            "500/500 [==============================] - 11s 22ms/step - loss: 0.3378 - val_loss: 0.3292\n",
            "Epoch 3/20\n",
            "500/500 [==============================] - 11s 22ms/step - loss: 0.2882 - val_loss: 0.2891\n",
            "Epoch 4/20\n",
            "500/500 [==============================] - 11s 22ms/step - loss: 0.2716 - val_loss: 0.2971\n",
            "Epoch 5/20\n",
            "500/500 [==============================] - 11s 21ms/step - loss: 0.2623 - val_loss: 0.2891\n",
            "Epoch 6/20\n",
            "500/500 [==============================] - 11s 22ms/step - loss: 0.2566 - val_loss: 0.2936\n",
            "Epoch 7/20\n",
            "500/500 [==============================] - 11s 22ms/step - loss: 0.2523 - val_loss: 0.2921\n",
            "Epoch 8/20\n",
            "500/500 [==============================] - 11s 22ms/step - loss: 0.2481 - val_loss: 0.2903\n",
            "Epoch 9/20\n",
            "500/500 [==============================] - 11s 22ms/step - loss: 0.2419 - val_loss: 0.3258\n",
            "Epoch 10/20\n",
            "500/500 [==============================] - 11s 22ms/step - loss: 0.2416 - val_loss: 0.3031\n",
            "Epoch 11/20\n",
            "500/500 [==============================] - 11s 22ms/step - loss: 0.2366 - val_loss: 0.3099\n",
            "Epoch 12/20\n",
            "500/500 [==============================] - 11s 22ms/step - loss: 0.2344 - val_loss: 0.2931\n",
            "Epoch 13/20\n",
            "500/500 [==============================] - 11s 22ms/step - loss: 0.2345 - val_loss: 0.2951\n",
            "Epoch 14/20\n",
            "500/500 [==============================] - 11s 22ms/step - loss: 0.2299 - val_loss: 0.3073\n",
            "Epoch 15/20\n",
            "500/500 [==============================] - 12s 23ms/step - loss: 0.2301 - val_loss: 0.3017\n",
            "Epoch 16/20\n",
            "500/500 [==============================] - 10s 21ms/step - loss: 0.2269 - val_loss: 0.3015\n",
            "Epoch 17/20\n",
            "500/500 [==============================] - 10s 20ms/step - loss: 0.2268 - val_loss: 0.2996\n",
            "Epoch 18/20\n",
            "500/500 [==============================] - 10s 20ms/step - loss: 0.2233 - val_loss: 0.2943\n",
            "Epoch 19/20\n",
            "500/500 [==============================] - 10s 20ms/step - loss: 0.2224 - val_loss: 0.2972\n",
            "Epoch 20/20\n",
            "500/500 [==============================] - 10s 21ms/step - loss: 0.2225 - val_loss: 0.3166\n"
          ],
          "name": "stdout"
        }
      ]
    },
    {
      "metadata": {
        "id": "ypZKg9dUJ2wA",
        "colab_type": "text"
      },
      "cell_type": "markdown",
      "source": [
        "Let's display the loss curves for validation and training:"
      ]
    },
    {
      "metadata": {
        "id": "bLlnKYN4J2wA",
        "colab_type": "code",
        "outputId": "c15b05ba-acad-4270-b9e7-9035e5b997c1",
        "colab": {
          "base_uri": "https://localhost:8080/",
          "height": 362
        }
      },
      "cell_type": "code",
      "source": [
        "import matplotlib.pyplot as plt\n",
        "\n",
        "loss = history.history['loss']\n",
        "val_loss = history.history['val_loss']\n",
        "\n",
        "epochs = range(len(loss))\n",
        "\n",
        "plt.figure()\n",
        "\n",
        "plt.plot(epochs, loss, 'bo', label='Training loss')\n",
        "plt.plot(epochs, val_loss, 'b', label='Validation loss')\n",
        "plt.title('Training and validation loss')\n",
        "plt.legend()\n",
        "\n",
        "plt.show()"
      ],
      "execution_count": 0,
      "outputs": [
        {
          "output_type": "display_data",
          "data": {
            "image/png": "[encoded data removed]",
            "text/plain": [
              "<Figure size 576x396 with 1 Axes>"
            ]
          },
          "metadata": {
            "tags": []
          }
        }
      ]
    },
    {
      "metadata": {
        "id": "FBKtspu2J2wF",
        "colab_type": "text"
      },
      "cell_type": "markdown",
      "source": [
        "\n",
        "Some of our validation losses get close to the no-learning baseline, but not very reliably. This goes to show the merit of having had this baseline in the first place: it turns out not to be so easy to outperform. Our \n",
        "common sense contains already a lot of valuable information that a machine learning model does not have access to.\n",
        "\n",
        "You may ask, if there exists a simple, well-performing model to go from the data to the targets (our common sense baseline), why doesn't \n",
        "the model we are training find it and improve on it? Simply put: because this simple solution is not what our training setup is looking \n",
        "for. The space of models in which we are searching for a solution, i.e. our hypothesis space, is the space of all possible 2-layer networks \n",
        "with the configuration that we defined. These networks are already fairly complicated. When looking for a solution with a space of \n",
        "complicated models, the simple well-performing baseline might be unlearnable, even if it's technically part of the hypothesis space. That \n",
        "is a pretty significant limitation of machine learning in general: unless the learning algorithm is hard-coded to look for a specific kind \n",
        "of simple model, parameter learning can sometimes fail to find a simple solution to a simple problem."
      ]
    },
    {
      "metadata": {
        "id": "vjLIV0YhJ2wG",
        "colab_type": "text"
      },
      "cell_type": "markdown",
      "source": [
        "## A first recurrent baseline\n",
        "\n",
        "\n",
        "Our first fully-connected approach didn't do so well, but that doesn't mean machine learning is not applicable to our problem. The approach \n",
        "above consisted in first flattening the timeseries, which removed the notion of time from the input data. Let us instead look at our data \n",
        "as what it is: a sequence, where causality and order matter. We will try a recurrent sequence processing model -- it should be the perfect \n",
        "fit for such sequence data, precisely because it does exploit the temporal ordering of data points, unlike our first approach.\n",
        "\n",
        "Instead of the `LSTM` layer introduced in the previous section, we will use the `GRU` layer, developed by Cho et al. in 2014. `GRU` layers \n",
        "(which stands for \"gated recurrent unit\") work by leveraging the same principle as LSTM, but they are somewhat streamlined and thus cheaper \n",
        "to run, albeit they may not have quite as much representational power as LSTM. This trade-off between computational expensiveness and \n",
        "representational power is seen everywhere in machine learning."
      ]
    },
    {
      "metadata": {
        "id": "Ps56rASZJ2wG",
        "colab_type": "code",
        "outputId": "acd791c2-1926-4ad0-a8cb-5833db00b0fa",
        "colab": {
          "base_uri": "https://localhost:8080/",
          "height": 689
        }
      },
      "cell_type": "code",
      "source": [
        "from keras.models import Sequential\n",
        "from keras import layers\n",
        "from keras.optimizers import RMSprop\n",
        "\n",
        "model = Sequential()\n",
        "model.add(layers.GRU(32, input_shape=(None, float_data.shape[-1])))\n",
        "model.add(layers.Dense(1))\n",
        "\n",
        "model.compile(optimizer=RMSprop(), loss='mae')\n",
        "history = model.fit_generator(train_gen,\n",
        "                              steps_per_epoch=500,\n",
        "                              epochs=20,\n",
        "                              validation_data=val_gen,\n",
        "                              validation_steps=val_steps)"
      ],
      "execution_count": 0,
      "outputs": [
        {
          "output_type": "stream",
          "text": [
            "Epoch 1/20\n",
            "500/500 [==============================] - 130s 260ms/step - loss: 0.3086 - val_loss: 0.2746\n",
            "Epoch 2/20\n",
            "500/500 [==============================] - 128s 256ms/step - loss: 0.2803 - val_loss: 0.2674\n",
            "Epoch 3/20\n",
            "500/500 [==============================] - 129s 257ms/step - loss: 0.2752 - val_loss: 0.2657\n",
            "Epoch 4/20\n",
            "500/500 [==============================] - 128s 256ms/step - loss: 0.2687 - val_loss: 0.2707\n",
            "Epoch 5/20\n",
            "500/500 [==============================] - 128s 255ms/step - loss: 0.2646 - val_loss: 0.2698\n",
            "Epoch 6/20\n",
            "500/500 [==============================] - 128s 256ms/step - loss: 0.2586 - val_loss: 0.2728\n",
            "Epoch 7/20\n",
            "500/500 [==============================] - 127s 255ms/step - loss: 0.2567 - val_loss: 0.2724\n",
            "Epoch 8/20\n",
            "500/500 [==============================] - 128s 256ms/step - loss: 0.2534 - val_loss: 0.2781\n",
            "Epoch 9/20\n",
            "500/500 [==============================] - 132s 265ms/step - loss: 0.2499 - val_loss: 0.2762\n",
            "Epoch 10/20\n",
            "500/500 [==============================] - 136s 272ms/step - loss: 0.2462 - val_loss: 0.2795\n",
            "Epoch 11/20\n",
            "500/500 [==============================] - 137s 273ms/step - loss: 0.2414 - val_loss: 0.2878\n",
            "Epoch 12/20\n",
            "500/500 [==============================] - 136s 271ms/step - loss: 0.2370 - val_loss: 0.2854\n",
            "Epoch 13/20\n",
            "500/500 [==============================] - 138s 277ms/step - loss: 0.2321 - val_loss: 0.2898\n",
            "Epoch 14/20\n",
            "500/500 [==============================] - 137s 274ms/step - loss: 0.2297 - val_loss: 0.2865\n",
            "Epoch 15/20\n",
            "500/500 [==============================] - 129s 258ms/step - loss: 0.2258 - val_loss: 0.2929\n",
            "Epoch 16/20\n",
            "500/500 [==============================] - 128s 256ms/step - loss: 0.2213 - val_loss: 0.2934\n",
            "Epoch 17/20\n",
            "500/500 [==============================] - 128s 256ms/step - loss: 0.2186 - val_loss: 0.2996\n",
            "Epoch 18/20\n",
            "500/500 [==============================] - 128s 256ms/step - loss: 0.2154 - val_loss: 0.2954\n",
            "Epoch 19/20\n",
            "500/500 [==============================] - 126s 252ms/step - loss: 0.2127 - val_loss: 0.3024\n",
            "Epoch 20/20\n",
            "500/500 [==============================] - 125s 251ms/step - loss: 0.2104 - val_loss: 0.3053\n"
          ],
          "name": "stdout"
        }
      ]
    },
    {
      "metadata": {
        "id": "ljFU77gKJ2wI",
        "colab_type": "text"
      },
      "cell_type": "markdown",
      "source": [
        "Let look at our results:"
      ]
    },
    {
      "metadata": {
        "id": "P2CboGjoJ2wK",
        "colab_type": "code",
        "colab": {}
      },
      "cell_type": "code",
      "source": [
        "loss = history.history['loss']\n",
        "val_loss = history.history['val_loss']\n",
        "\n",
        "epochs = range(len(loss))\n",
        "\n",
        "plt.figure()\n",
        "\n",
        "plt.plot(epochs, loss, 'bo', label='Training loss')\n",
        "plt.plot(epochs, val_loss, 'b', label='Validation loss')\n",
        "plt.title('Training and validation loss')\n",
        "plt.legend()\n",
        "\n",
        "plt.show()"
      ],
      "execution_count": 0,
      "outputs": []
    },
    {
      "metadata": {
        "id": "kOW_jrSRJ2wN",
        "colab_type": "text"
      },
      "cell_type": "markdown",
      "source": [
        "\n",
        "Much better! We are able to significantly beat the common sense baseline, such demonstrating the value of machine learning here, as well as \n",
        "the superiority of recurrent networks compared to sequence-flattening dense networks on this type of task.\n",
        "\n",
        "Our new validation MAE of ~0.265 (before we start significantly overfitting) translates to a mean absolute error of 2.35˚C after \n",
        "de-normalization. That's a solid gain on our initial error of 2.57˚C, but we probably still have a bit of margin for improvement."
      ]
    },
    {
      "metadata": {
        "id": "Z41IBx00J2wN",
        "colab_type": "text"
      },
      "cell_type": "markdown",
      "source": [
        "## Using recurrent dropout to fight overfitting\n",
        "\n",
        "\n",
        "It is evident from our training and validation curves that our model is overfitting: the training and validation losses start diverging \n",
        "considerably after a few epochs. You are already familiar with a classic technique for fighting this phenomenon: dropout, consisting in \n",
        "randomly zeroing-out input units of a layer in order to break happenstance correlations in the training data that the layer is exposed to. \n",
        "How to correctly apply dropout in recurrent networks, however, is not a trivial question. It has long been known that applying dropout \n",
        "before a recurrent layer hinders learning rather than helping with regularization. In 2015, Yarin Gal, as part of his Ph.D. thesis on \n",
        "Bayesian deep learning, determined the proper way to use dropout with a recurrent network: the same dropout mask (the same pattern of \n",
        "dropped units) should be applied at every timestep, instead of a dropout mask that would vary randomly from timestep to timestep. What's \n",
        "more: in order to regularize the representations formed by the recurrent gates of layers such as GRU and LSTM, a temporally constant \n",
        "dropout mask should be applied to the inner recurrent activations of the layer (a \"recurrent\" dropout mask). Using the same dropout mask at \n",
        "every timestep allows the network to properly propagate its learning error through time; a temporally random dropout mask would instead \n",
        "disrupt this error signal and be harmful to the learning process.\n",
        "\n",
        "Yarin Gal did his research using Keras and helped build this mechanism directly into Keras recurrent layers. Every recurrent layer in Keras \n",
        "has two dropout-related arguments: `dropout`, a float specifying the dropout rate for input units of the layer, and `recurrent_dropout`, \n",
        "specifying the dropout rate of the recurrent units. Let's add dropout and recurrent dropout to our GRU layer and see how it impacts \n",
        "overfitting. Because networks being regularized with dropout always take longer to fully converge, we train our network for twice as many \n",
        "epochs."
      ]
    },
    {
      "metadata": {
        "id": "YLYRMneOJ2wO",
        "colab_type": "code",
        "outputId": "213e5b98-6f7f-4cc7-bc2e-91efe5b45e11",
        "colab": {
          "base_uri": "https://localhost:8080/",
          "height": 857
        }
      },
      "cell_type": "code",
      "source": [
        "from keras.models import Sequential\n",
        "from keras import layers\n",
        "from keras.optimizers import RMSprop\n",
        "\n",
        "model = Sequential()\n",
        "model.add(layers.GRU(32,\n",
        "                     dropout=0.2,\n",
        "                     recurrent_dropout=0.2,\n",
        "                     input_shape=(None, float_data.shape[-1])))\n",
        "model.add(layers.Dense(1))\n",
        "\n",
        "model.compile(optimizer=RMSprop(), loss='mae')\n",
        "history = model.fit_generator(train_gen,\n",
        "                              steps_per_epoch=500,\n",
        "                              epochs=40,\n",
        "                              validation_data=val_gen,\n",
        "                              validation_steps=val_steps)"
      ],
      "execution_count": 0,
      "outputs": [
        {
          "output_type": "stream",
          "text": [
            "Epoch 1/40\n",
            "500/500 [==============================] - 142s 284ms/step - loss: 0.3561 - val_loss: 0.2785\n",
            "Epoch 2/40\n",
            "500/500 [==============================] - 141s 282ms/step - loss: 0.3187 - val_loss: 0.2736\n",
            "Epoch 3/40\n",
            "500/500 [==============================] - 141s 281ms/step - loss: 0.3112 - val_loss: 0.2709\n",
            "Epoch 4/40\n",
            "500/500 [==============================] - 149s 297ms/step - loss: 0.3045 - val_loss: 0.2692\n",
            "Epoch 5/40\n",
            "500/500 [==============================] - 148s 295ms/step - loss: 0.3016 - val_loss: 0.2711\n",
            "Epoch 6/40\n",
            "500/500 [==============================] - 157s 313ms/step - loss: 0.2989 - val_loss: 0.2731\n",
            "Epoch 7/40\n",
            "500/500 [==============================] - 152s 304ms/step - loss: 0.2984 - val_loss: 0.2670\n",
            "Epoch 8/40\n",
            "500/500 [==============================] - 143s 286ms/step - loss: 0.2976 - val_loss: 0.2697\n",
            "Epoch 9/40\n",
            "500/500 [==============================] - 141s 283ms/step - loss: 0.2966 - val_loss: 0.2661\n",
            "Epoch 10/40\n",
            "500/500 [==============================] - 142s 283ms/step - loss: 0.2934 - val_loss: 0.2668\n",
            "Epoch 11/40\n",
            "500/500 [==============================] - 142s 284ms/step - loss: 0.2923 - val_loss: 0.2663\n",
            "Epoch 12/40\n",
            "500/500 [==============================] - 141s 282ms/step - loss: 0.2904 - val_loss: 0.2668\n",
            "Epoch 13/40\n",
            "500/500 [==============================] - 149s 297ms/step - loss: 0.2893 - val_loss: 0.2644\n",
            "Epoch 14/40\n",
            "500/500 [==============================] - 146s 292ms/step - loss: 0.2909 - val_loss: 0.2678\n",
            "Epoch 15/40\n",
            "500/500 [==============================] - 154s 309ms/step - loss: 0.2875 - val_loss: 0.2644\n",
            "Epoch 16/40\n",
            "500/500 [==============================] - 153s 305ms/step - loss: 0.2873 - val_loss: 0.2660\n",
            "Epoch 17/40\n",
            "500/500 [==============================] - 153s 307ms/step - loss: 0.2858 - val_loss: 0.2654\n",
            "Epoch 18/40\n",
            "500/500 [==============================] - 142s 284ms/step - loss: 0.2859 - val_loss: 0.2629\n",
            "Epoch 19/40\n",
            "500/500 [==============================] - 142s 284ms/step - loss: 0.2849 - val_loss: 0.2633\n",
            "Epoch 20/40\n",
            "500/500 [==============================] - 144s 288ms/step - loss: 0.2846 - val_loss: 0.2620\n",
            "Epoch 21/40\n",
            "500/500 [==============================] - 144s 288ms/step - loss: 0.2827 - val_loss: 0.2651\n",
            "Epoch 22/40\n",
            "500/500 [==============================] - 143s 286ms/step - loss: 0.2815 - val_loss: 0.2695\n",
            "Epoch 23/40\n",
            "500/500 [==============================] - 142s 285ms/step - loss: 0.2823 - val_loss: 0.2645\n",
            "Epoch 24/40\n",
            "500/500 [==============================] - 143s 286ms/step - loss: 0.2834 - val_loss: 0.2634\n",
            "Epoch 25/40\n",
            "499/500 [============================>.] - ETA: 0s - loss: 0.2809"
          ],
          "name": "stdout"
        }
      ]
    },
    {
      "metadata": {
        "id": "DAqeubt2J2wQ",
        "colab_type": "code",
        "colab": {}
      },
      "cell_type": "code",
      "source": [
        "loss = history.history['loss']\n",
        "val_loss = history.history['val_loss']\n",
        "\n",
        "epochs = range(len(loss))\n",
        "\n",
        "plt.figure()\n",
        "\n",
        "plt.plot(epochs, loss, 'bo', label='Training loss')\n",
        "plt.plot(epochs, val_loss, 'b', label='Validation loss')\n",
        "plt.title('Training and validation loss')\n",
        "plt.legend()\n",
        "\n",
        "plt.show()"
      ],
      "execution_count": 0,
      "outputs": []
    },
    {
      "metadata": {
        "id": "RqCLJwlRJ2wS",
        "colab_type": "text"
      },
      "cell_type": "markdown",
      "source": [
        "Great success; we are no longer overfitting during the first 30 epochs. However, while we have more stable evaluation scores, our best \n",
        "scores are not much lower than they were previously."
      ]
    },
    {
      "metadata": {
        "id": "h4yXVCVKJ2wT",
        "colab_type": "text"
      },
      "cell_type": "markdown",
      "source": [
        "## Stacking recurrent layers\n",
        "\n",
        "Since we are no longer overfitting yet we seem to have hit a performance bottleneck, we should start considering increasing the capacity of \n",
        "our network. If you remember our description of the \"universal machine learning workflow\": it is a generally a good idea to increase the \n",
        "capacity of your network until overfitting becomes your primary obstacle (assuming that you are already taking basic steps to mitigate \n",
        "overfitting, such as using dropout). As long as you are not overfitting too badly, then you are likely under-capacity.\n",
        "\n",
        "Increasing network capacity is typically done by increasing the number of units in the layers, or adding more layers. Recurrent layer \n",
        "stacking is a classic way to build more powerful recurrent networks: for instance, what currently powers the Google translate algorithm is \n",
        "a stack of seven large LSTM layers -- that's huge.\n",
        "\n",
        "To stack recurrent layers on top of each other in Keras, all intermediate layers should return their full sequence of outputs (a 3D tensor) \n",
        "rather than their output at the last timestep. This is done by specifying `return_sequences=True`: "
      ]
    },
    {
      "metadata": {
        "id": "gtHP4QuLJ2wU",
        "colab_type": "code",
        "colab": {}
      },
      "cell_type": "code",
      "source": [
        "from keras.models import Sequential\n",
        "from keras import layers\n",
        "from keras.optimizers import RMSprop\n",
        "\n",
        "model = Sequential()\n",
        "model.add(layers.GRU(32,\n",
        "                     dropout=0.1,\n",
        "                     recurrent_dropout=0.5,\n",
        "                     return_sequences=True,\n",
        "                     input_shape=(None, float_data.shape[-1])))\n",
        "model.add(layers.GRU(64, activation='relu',\n",
        "                     dropout=0.1, \n",
        "                     recurrent_dropout=0.5))\n",
        "model.add(layers.Dense(1))\n",
        "\n",
        "model.compile(optimizer=RMSprop(), loss='mae')\n",
        "history = model.fit_generator(train_gen,\n",
        "                              steps_per_epoch=500,\n",
        "                              epochs=40,\n",
        "                              validation_data=val_gen,\n",
        "                              validation_steps=val_steps)"
      ],
      "execution_count": 0,
      "outputs": []
    },
    {
      "metadata": {
        "id": "iE_geOaqJ2wX",
        "colab_type": "text"
      },
      "cell_type": "markdown",
      "source": [
        "Let's take a look at our results:"
      ]
    },
    {
      "metadata": {
        "id": "iusHli-mJ2wX",
        "colab_type": "code",
        "colab": {}
      },
      "cell_type": "code",
      "source": [
        "loss = history.history['loss']\n",
        "val_loss = history.history['val_loss']\n",
        "\n",
        "epochs = range(len(loss))\n",
        "\n",
        "plt.figure()\n",
        "\n",
        "plt.plot(epochs, loss, 'bo', label='Training loss')\n",
        "plt.plot(epochs, val_loss, 'b', label='Validation loss')\n",
        "plt.title('Training and validation loss')\n",
        "plt.legend()\n",
        "\n",
        "plt.show()"
      ],
      "execution_count": 0,
      "outputs": []
    },
    {
      "metadata": {
        "id": "X-C2JIcLJ2wc",
        "colab_type": "text"
      },
      "cell_type": "markdown",
      "source": [
        "We can see that the added layers does improve ours results by a bit, albeit not very significantly. We can draw two conclusions:\n",
        "\n",
        "* Since we are still not overfitting too badly, we could safely increase the size of our layers, in quest for a bit of validation loss \n",
        "improvement. This does have a non-negligible computational cost, though. \n",
        "* Since adding a layer did not help us by a significant factor, we may be seeing diminishing returns to increasing network capacity at this \n",
        "point."
      ]
    },
    {
      "metadata": {
        "id": "QwzO7ZQwJ2wc",
        "colab_type": "text"
      },
      "cell_type": "markdown",
      "source": [
        "## Using bidirectional RNNs\n",
        "\n",
        "\n",
        "The last technique that we will introduce in this section is called \"bidirectional RNNs\". A bidirectional RNN is common RNN variant which \n",
        "can offer higher performance than a regular RNN on certain tasks. It is frequently used in natural language processing -- you could call it \n",
        "the Swiss army knife of deep learning for NLP.\n",
        "\n",
        "RNNs are notably order-dependent, or time-dependent: they process the timesteps of their input sequences in order, and shuffling or \n",
        "reversing the timesteps can completely change the representations that the RNN will extract from the sequence. This is precisely the reason \n",
        "why they perform well on problems where order is meaningful, such as our temperature forecasting problem. A bidirectional RNN exploits \n",
        "the order-sensitivity of RNNs: it simply consists of two regular RNNs, such as the GRU or LSTM layers that you are already familiar with, \n",
        "each processing input sequence in one direction (chronologically and antichronologically), then merging their representations. By \n",
        "processing a sequence both way, a bidirectional RNN is able to catch patterns that may have been overlooked by a one-direction RNN.\n",
        "\n",
        "Remarkably, the fact that the RNN layers in this section have so far processed sequences in chronological order (older timesteps first) may \n",
        "have been an arbitrary decision. At least, it's a decision we made no attempt at questioning so far. Could it be that our RNNs could have \n",
        "performed well enough if it were processing input sequences in antichronological order, for instance (newer timesteps first)? Let's try \n",
        "this in practice and see what we get. All we need to do is write a variant of our data generator, where the input sequences get reverted \n",
        "along the time dimension (replace the last line with `yield samples[:, ::-1, :], targets`). Training the same one-GRU-layer network as we \n",
        "used in the first experiment in this section, we get the following results:"
      ]
    },
    {
      "metadata": {
        "id": "Qlu4YlgUJ2wd",
        "colab_type": "code",
        "colab": {}
      },
      "cell_type": "code",
      "source": [
        "def reverse_order_generator(data, lookback, delay, min_index, max_index,\n",
        "                            shuffle=False, batch_size=128, step=6):\n",
        "    if max_index is None:\n",
        "        max_index = len(data) - delay - 1\n",
        "    i = min_index + lookback\n",
        "    while 1:\n",
        "        if shuffle:\n",
        "            rows = np.random.randint(\n",
        "                min_index + lookback, max_index, size=batch_size)\n",
        "        else:\n",
        "            if i + batch_size >= max_index:\n",
        "                i = min_index + lookback\n",
        "            rows = np.arange(i, min(i + batch_size, max_index))\n",
        "            i += len(rows)\n",
        "\n",
        "        samples = np.zeros((len(rows),\n",
        "                           lookback // step,\n",
        "                           data.shape[-1]))\n",
        "        targets = np.zeros((len(rows),))\n",
        "        for j, row in enumerate(rows):\n",
        "            indices = range(rows[j] - lookback, rows[j], step)\n",
        "            samples[j] = data[indices]\n",
        "            targets[j] = data[rows[j] + delay][1]\n",
        "        yield samples[:, ::-1, :], targets\n",
        "        \n",
        "train_gen_reverse = reverse_order_generator(\n",
        "    float_data,\n",
        "    lookback=lookback,\n",
        "    delay=delay,\n",
        "    min_index=0,\n",
        "    max_index=200000,\n",
        "    shuffle=True,\n",
        "    step=step, \n",
        "    batch_size=batch_size)\n",
        "val_gen_reverse = reverse_order_generator(\n",
        "    float_data,\n",
        "    lookback=lookback,\n",
        "    delay=delay,\n",
        "    min_index=200001,\n",
        "    max_index=300000,\n",
        "    step=step,\n",
        "    batch_size=batch_size)"
      ],
      "execution_count": 0,
      "outputs": []
    },
    {
      "metadata": {
        "id": "C6mVWGrYJ2we",
        "colab_type": "code",
        "colab": {}
      },
      "cell_type": "code",
      "source": [
        "model = Sequential()\n",
        "model.add(layers.GRU(32, input_shape=(None, float_data.shape[-1])))\n",
        "model.add(layers.Dense(1))\n",
        "\n",
        "model.compile(optimizer=RMSprop(), loss='mae')\n",
        "history = model.fit_generator(train_gen_reverse,\n",
        "                              steps_per_epoch=500,\n",
        "                              epochs=20,\n",
        "                              validation_data=val_gen_reverse,\n",
        "                              validation_steps=val_steps)"
      ],
      "execution_count": 0,
      "outputs": []
    },
    {
      "metadata": {
        "id": "ExKJ2T3BJ2wi",
        "colab_type": "code",
        "colab": {}
      },
      "cell_type": "code",
      "source": [
        "loss = history.history['loss']\n",
        "val_loss = history.history['val_loss']\n",
        "\n",
        "epochs = range(len(loss))\n",
        "\n",
        "plt.figure()\n",
        "\n",
        "plt.plot(epochs, loss, 'bo', label='Training loss')\n",
        "plt.plot(epochs, val_loss, 'b', label='Validation loss')\n",
        "plt.title('Training and validation loss')\n",
        "plt.legend()\n",
        "\n",
        "plt.show()"
      ],
      "execution_count": 0,
      "outputs": []
    },
    {
      "metadata": {
        "id": "DsqzwIEZJ2wo",
        "colab_type": "text"
      },
      "cell_type": "markdown",
      "source": [
        "\n",
        "So the reversed-order GRU strongly underperforms even the common-sense baseline, indicating that the in our case chronological processing is very \n",
        "important to the success of our approach. This makes perfect sense: the underlying GRU layer will typically be better at remembering the \n",
        "recent past than the distant past, and naturally the more recent weather data points are more predictive than older data points in our \n",
        "problem (that's precisely what makes the common-sense baseline a fairly strong baseline). Thus the chronological version of the layer is \n",
        "bound to outperform the reversed-order version. Importantly, this is generally not true for many other problems, including natural \n",
        "language: intuitively, the importance of a word in understanding a sentence is not usually dependent on its position in the sentence. Let's \n",
        "try the same trick on the LSTM IMDB example from the previous section:"
      ]
    },
    {
      "metadata": {
        "id": "Yfe9TjDhJ2wo",
        "colab_type": "code",
        "colab": {}
      },
      "cell_type": "code",
      "source": [
        "from keras.datasets import imdb\n",
        "from keras.preprocessing import sequence\n",
        "from keras import layers\n",
        "from keras.models import Sequential\n",
        "\n",
        "# Number of words to consider as features\n",
        "max_features = 10000\n",
        "# Cut texts after this number of words (among top max_features most common words)\n",
        "maxlen = 500\n",
        "\n",
        "# Load data\n",
        "(x_train, y_train), (x_test, y_test) = imdb.load_data(num_words=max_features)\n",
        "\n",
        "# Reverse sequences\n",
        "x_train = [x[::-1] for x in x_train]\n",
        "x_test = [x[::-1] for x in x_test]\n",
        "\n",
        "# Pad sequences\n",
        "x_train = sequence.pad_sequences(x_train, maxlen=maxlen)\n",
        "x_test = sequence.pad_sequences(x_test, maxlen=maxlen)\n",
        "\n",
        "model = Sequential()\n",
        "model.add(layers.Embedding(max_features, 128))\n",
        "model.add(layers.LSTM(32))\n",
        "model.add(layers.Dense(1, activation='sigmoid'))\n",
        "\n",
        "model.compile(optimizer='rmsprop',\n",
        "              loss='binary_crossentropy',\n",
        "              metrics=['acc'])\n",
        "history = model.fit(x_train, y_train,\n",
        "                    epochs=10,\n",
        "                    batch_size=128,\n",
        "                    validation_split=0.2)"
      ],
      "execution_count": 0,
      "outputs": []
    },
    {
      "metadata": {
        "id": "Kq9yX6eBJ2wr",
        "colab_type": "text"
      },
      "cell_type": "markdown",
      "source": [
        "\n",
        "We get near-identical performance as the chronological-order LSTM we tried in the previous section.\n",
        "\n",
        "Thus, remarkably, on such a text dataset, reversed-order processing works just as well as chronological processing, confirming our \n",
        "hypothesis that, albeit word order *does* matter in understanding language, *which* order you use isn't crucial. Importantly, a RNN trained \n",
        "on reversed sequences will learn different representations than one trained on the original sequences, in much the same way that you would \n",
        "have quite different mental models if time flowed backwards in the real world -- if you lived a life where you died on your first day and \n",
        "you were born on your last day. In machine learning, representations that are *different* yet *useful* are always worth exploiting, and the \n",
        "more they differ the better: they offer a new angle from which to look at your data, capturing aspects of the data that were missed by other \n",
        "approaches, and thus they can allow to boost performance on a task. This is the intuition behind \"ensembling\", a concept that we will \n",
        "introduce in the next chapter.\n",
        "\n",
        "A bidirectional RNN exploits this idea to improve upon the performance of chronological-order RNNs: it looks at its inputs sequence both \n",
        "ways, obtaining potentially richer representations and capturing patterns that may have been missed by the chronological-order version alone."
      ]
    },
    {
      "metadata": {
        "id": "0P6jrDuaJ2wr",
        "colab_type": "text"
      },
      "cell_type": "markdown",
      "source": [
        "![bidirectional rnn](https://s3.amazonaws.com/book.keras.io/img/ch6/bidirectional_rnn.png)"
      ]
    },
    {
      "metadata": {
        "id": "FmNFf64IJ2wr",
        "colab_type": "text"
      },
      "cell_type": "markdown",
      "source": [
        "To instantiate a bidirectional RNN in Keras, one would use the `Bidirectional` layer, which takes as first argument a recurrent layer \n",
        "instance. `Bidirectional` will create a second, separate instance of this recurrent layer, and will use one instance for processing the \n",
        "input sequences in chronological order and the other instance for processing the input sequences in reversed order. Let's try it on the \n",
        "IMDB sentiment analysis task:"
      ]
    },
    {
      "metadata": {
        "id": "h8afdxqhJ2ws",
        "colab_type": "code",
        "colab": {}
      },
      "cell_type": "code",
      "source": [
        "from keras import backend as K\n",
        "K.clear_session()"
      ],
      "execution_count": 0,
      "outputs": []
    },
    {
      "metadata": {
        "id": "ynTtZUNaJ2wv",
        "colab_type": "code",
        "colab": {}
      },
      "cell_type": "code",
      "source": [
        "model = Sequential()\n",
        "model.add(layers.Embedding(max_features, 32))\n",
        "model.add(layers.Bidirectional(layers.LSTM(32)))\n",
        "model.add(layers.Dense(1, activation='sigmoid'))\n",
        "\n",
        "model.compile(optimizer='rmsprop', loss='binary_crossentropy', metrics=['acc'])\n",
        "history = model.fit(x_train, y_train, epochs=10, batch_size=128, validation_split=0.2)"
      ],
      "execution_count": 0,
      "outputs": []
    },
    {
      "metadata": {
        "id": "oftA3l8tJ2wx",
        "colab_type": "text"
      },
      "cell_type": "markdown",
      "source": [
        "It performs slightly better than the regular LSTM we tried in the previous section, going above 88% validation accuracy. It also seems to \n",
        "overfit faster, which is unsurprising since a bidirectional layer has twice more parameters than a chronological LSTM. With some \n",
        "regularization, the bidirectional approach would likely be a strong performer on this task.\n",
        "\n",
        "Now let's try the same approach on the weather prediction task:"
      ]
    },
    {
      "metadata": {
        "id": "S8K5K-mtJ2wx",
        "colab_type": "code",
        "colab": {}
      },
      "cell_type": "code",
      "source": [
        "from keras.models import Sequential\n",
        "from keras import layers\n",
        "from keras.optimizers import RMSprop\n",
        "\n",
        "model = Sequential()\n",
        "model.add(layers.Bidirectional(\n",
        "    layers.GRU(32), input_shape=(None, float_data.shape[-1])))\n",
        "model.add(layers.Dense(1))\n",
        "\n",
        "model.compile(optimizer=RMSprop(), loss='mae')\n",
        "history = model.fit_generator(train_gen,\n",
        "                              steps_per_epoch=500,\n",
        "                              epochs=40,\n",
        "                              validation_data=val_gen,\n",
        "                              validation_steps=val_steps)"
      ],
      "execution_count": 0,
      "outputs": []
    },
    {
      "metadata": {
        "id": "GZ3ScakoJ2w1",
        "colab_type": "text"
      },
      "cell_type": "markdown",
      "source": [
        "\n",
        "It performs about as well as the regular GRU layer. It's easy to understand why: all of the predictive capacity must be coming from the \n",
        "chronological half of the network, since the anti-chronological half is known to be severely underperforming on this task (again, because \n",
        "the recent past matters much more than the distant past in this case)."
      ]
    },
    {
      "metadata": {
        "id": "ryUYjruUUo62",
        "colab_type": "text"
      },
      "cell_type": "markdown",
      "source": [
        "## Try using LSTM layers instead of GRU layer\n",
        "One additional test to try to improve the weather forecastting example, using LSTM instead of CRU layers:"
      ]
    },
    {
      "metadata": {
        "id": "jgYmXYI-UzD2",
        "colab_type": "code",
        "colab": {
          "base_uri": "https://localhost:8080/",
          "height": 1034
        },
        "outputId": "581a7567-5de1-4208-98bc-857f98314297"
      },
      "cell_type": "code",
      "source": [
        "model = Sequential()\n",
        "model.add(layers.LSTM(32, input_shape=(None, float_data.shape[-1])))\n",
        "model.add(layers.Dense(1))\n",
        "\n",
        "model.compile(optimizer=RMSprop(), loss='mae')\n",
        "history = model.fit_generator(train_gen,\n",
        "                              steps_per_epoch=500,\n",
        "                              epochs=20,\n",
        "                              validation_data=val_gen,\n",
        "                              validation_steps=val_steps)\n",
        "\n",
        "plot_validation(history, 'lstm_32.png')"
      ],
      "execution_count": 17,
      "outputs": [
        {
          "output_type": "stream",
          "text": [
            "Epoch 1/20\n",
            "500/500 [==============================] - 72s 143ms/step - loss: 0.3051 - val_loss: 0.2692\n",
            "Epoch 2/20\n",
            "500/500 [==============================] - 71s 141ms/step - loss: 0.2771 - val_loss: 0.2669\n",
            "Epoch 3/20\n",
            "500/500 [==============================] - 70s 140ms/step - loss: 0.2663 - val_loss: 0.2718\n",
            "Epoch 4/20\n",
            "500/500 [==============================] - 70s 140ms/step - loss: 0.2593 - val_loss: 0.2753\n",
            "Epoch 5/20\n",
            "500/500 [==============================] - 70s 141ms/step - loss: 0.2511 - val_loss: 0.2766\n",
            "Epoch 6/20\n",
            "500/500 [==============================] - 70s 140ms/step - loss: 0.2447 - val_loss: 0.2780\n",
            "Epoch 7/20\n",
            "500/500 [==============================] - 71s 141ms/step - loss: 0.2383 - val_loss: 0.2842\n",
            "Epoch 8/20\n",
            "500/500 [==============================] - 70s 140ms/step - loss: 0.2340 - val_loss: 0.2885\n",
            "Epoch 9/20\n",
            "500/500 [==============================] - 69s 138ms/step - loss: 0.2272 - val_loss: 0.2969\n",
            "Epoch 10/20\n",
            "500/500 [==============================] - 69s 138ms/step - loss: 0.2242 - val_loss: 0.3020\n",
            "Epoch 11/20\n",
            "500/500 [==============================] - 70s 139ms/step - loss: 0.2189 - val_loss: 0.2980\n",
            "Epoch 12/20\n",
            "500/500 [==============================] - 70s 139ms/step - loss: 0.2135 - val_loss: 0.3013\n",
            "Epoch 13/20\n",
            "500/500 [==============================] - 69s 138ms/step - loss: 0.2098 - val_loss: 0.3082\n",
            "Epoch 14/20\n",
            "500/500 [==============================] - 69s 138ms/step - loss: 0.2059 - val_loss: 0.3038\n",
            "Epoch 15/20\n",
            "500/500 [==============================] - 69s 137ms/step - loss: 0.2039 - val_loss: 0.3072\n",
            "Epoch 16/20\n",
            "500/500 [==============================] - 69s 138ms/step - loss: 0.1998 - val_loss: 0.3088\n",
            "Epoch 17/20\n",
            "500/500 [==============================] - 69s 138ms/step - loss: 0.1963 - val_loss: 0.3140\n",
            "Epoch 18/20\n",
            "500/500 [==============================] - 69s 137ms/step - loss: 0.1931 - val_loss: 0.3152\n",
            "Epoch 19/20\n",
            "500/500 [==============================] - 69s 137ms/step - loss: 0.1909 - val_loss: 0.3146\n",
            "Epoch 20/20\n",
            "500/500 [==============================] - 69s 138ms/step - loss: 0.1887 - val_loss: 0.3161\n"
          ],
          "name": "stdout"
        },
        {
          "output_type": "display_data",
          "data": {
            "image/png": "[encoded data removed]",
            "text/plain": [
              "<Figure size 576x396 with 1 Axes>"
            ]
          },
          "metadata": {
            "tags": []
          }
        }
      ]
    },
    {
      "metadata": {
        "id": "UzgFBzJeWbiT",
        "colab_type": "text"
      },
      "cell_type": "markdown",
      "source": [
        "## Adjusting cell units"
      ]
    },
    {
      "metadata": {
        "id": "JfzRwqa9Waf4",
        "colab_type": "code",
        "colab": {}
      },
      "cell_type": "code",
      "source": [
        "model = Sequential()\n",
        "model.add(layers.LSTM(64, input_shape=(None, float_data.shape[-1])))\n",
        "model.add(layers.Dense(1))\n",
        "\n",
        "model.compile(optimizer=RMSprop(), loss='mae')\n",
        "history = model.fit_generator(train_gen,\n",
        "                              steps_per_epoch=500,\n",
        "                              epochs=20,\n",
        "                              validation_data=val_gen,\n",
        "                              validation_steps=val_steps)\n",
        "\n",
        "plot_validation(history, 'lstm_64.png')"
      ],
      "execution_count": 0,
      "outputs": []
    },
    {
      "metadata": {
        "id": "FV7zO3fiYhF2",
        "colab_type": "text"
      },
      "cell_type": "markdown",
      "source": [
        "# Using ConvNets for sequencial forecasting\n",
        "Let's try to use a 1D convolution and 1D pooling layers to predict weather on current example. Lets try different architectures and see with performs the best."
      ]
    },
    {
      "metadata": {
        "id": "n2RmI_f0ccxl",
        "colab_type": "code",
        "colab": {}
      },
      "cell_type": "code",
      "source": [
        "\n",
        "def ConNet1D(input_shape, layer_def=[[32, 5], [64, 5]]):\n",
        "    \"\"\"\n",
        "    :param input_shape:\n",
        "    :param layer_def: filter and kernels for each layer\n",
        "    :return:\n",
        "    \"\"\"\n",
        "    model = Sequential()\n",
        "    for idx, i in enumerate(layer_def):\n",
        "        if idx == 0:\n",
        "            model.add(layers.Conv1D(i[0], i[1], activation='relu', input_shape=input_shape))\n",
        "        else:\n",
        "            model.add(layers.Conv1D(i[0], i[1], activation='relu'))\n",
        "        model.add(layers.MaxPooling1D(3))\n",
        "\n",
        "    model.add(layers.GlobalMaxPooling1D())\n",
        "    model.add(layers.Dense(1))\n",
        "\n",
        "    return model\n"
      ],
      "execution_count": 0,
      "outputs": []
    },
    {
      "metadata": {
        "id": "XqNlryB0cMQy",
        "colab_type": "code",
        "colab": {
          "base_uri": "https://localhost:8080/",
          "height": 1034
        },
        "outputId": "5c023602-b033-41fa-b29c-0fbc3568f2ce"
      },
      "cell_type": "code",
      "source": [
        "input_shape = (None, float_data.shape[-1])\n",
        "model = ConNet1D(input_shape, [[32, 5]])\n",
        "\n",
        "model.compile(optimizer=RMSprop(), loss='mae')\n",
        "history = model.fit_generator(train_gen,\n",
        "                              steps_per_epoch=500,\n",
        "                              epochs=20,\n",
        "                              validation_data=val_gen,\n",
        "                              validation_steps=val_steps)\n",
        "\n",
        "plot_validation(history, '1d_32.png')"
      ],
      "execution_count": 19,
      "outputs": [
        {
          "output_type": "stream",
          "text": [
            "Epoch 1/20\n",
            "500/500 [==============================] - 25s 51ms/step - loss: 0.4621 - val_loss: 0.4721\n",
            "Epoch 2/20\n",
            "500/500 [==============================] - 25s 51ms/step - loss: 0.4194 - val_loss: 0.4367\n",
            "Epoch 3/20\n",
            "500/500 [==============================] - 25s 50ms/step - loss: 0.4079 - val_loss: 0.4556\n",
            "Epoch 4/20\n",
            "500/500 [==============================] - 25s 50ms/step - loss: 0.4015 - val_loss: 0.4331\n",
            "Epoch 5/20\n",
            "500/500 [==============================] - 25s 50ms/step - loss: 0.3969 - val_loss: 0.4498\n",
            "Epoch 6/20\n",
            "500/500 [==============================] - 25s 50ms/step - loss: 0.3938 - val_loss: 0.4368\n",
            "Epoch 7/20\n",
            "500/500 [==============================] - 25s 49ms/step - loss: 0.3902 - val_loss: 0.4495\n",
            "Epoch 8/20\n",
            "500/500 [==============================] - 25s 50ms/step - loss: 0.3875 - val_loss: 0.4579\n",
            "Epoch 9/20\n",
            "500/500 [==============================] - 25s 50ms/step - loss: 0.3860 - val_loss: 0.4901\n",
            "Epoch 10/20\n",
            "500/500 [==============================] - 25s 50ms/step - loss: 0.3855 - val_loss: 0.4516\n",
            "Epoch 11/20\n",
            "500/500 [==============================] - 25s 50ms/step - loss: 0.3848 - val_loss: 0.4816\n",
            "Epoch 12/20\n",
            "500/500 [==============================] - 25s 50ms/step - loss: 0.3824 - val_loss: 0.4428\n",
            "Epoch 13/20\n",
            "500/500 [==============================] - 25s 50ms/step - loss: 0.3795 - val_loss: 0.4457\n",
            "Epoch 14/20\n",
            "500/500 [==============================] - 25s 50ms/step - loss: 0.3789 - val_loss: 0.4669\n",
            "Epoch 15/20\n",
            "500/500 [==============================] - 26s 51ms/step - loss: 0.3768 - val_loss: 0.4840\n",
            "Epoch 16/20\n",
            "500/500 [==============================] - 25s 50ms/step - loss: 0.3753 - val_loss: 0.4613\n",
            "Epoch 17/20\n",
            "500/500 [==============================] - 25s 50ms/step - loss: 0.3742 - val_loss: 0.4436\n",
            "Epoch 18/20\n",
            "500/500 [==============================] - 25s 50ms/step - loss: 0.3735 - val_loss: 0.4821\n",
            "Epoch 19/20\n",
            "500/500 [==============================] - 25s 50ms/step - loss: 0.3702 - val_loss: 0.4948\n",
            "Epoch 20/20\n",
            "500/500 [==============================] - 25s 50ms/step - loss: 0.3694 - val_loss: 0.4578\n"
          ],
          "name": "stdout"
        },
        {
          "output_type": "display_data",
          "data": {
            "image/png": "[encoded data removed]",
            "text/plain": [
              "<Figure size 576x396 with 1 Axes>"
            ]
          },
          "metadata": {
            "tags": []
          }
        }
      ]
    },
    {
      "metadata": {
        "id": "nWiFIj_UctZl",
        "colab_type": "code",
        "colab": {
          "base_uri": "https://localhost:8080/",
          "height": 1034
        },
        "outputId": "3010ffe3-4ff7-4a16-b185-1caab5da589b"
      },
      "cell_type": "code",
      "source": [
        "input_shape = (None, float_data.shape[-1])\n",
        "model = ConNet1D(input_shape, [[32, 5],[64,5]])\n",
        "\n",
        "model.compile(optimizer=RMSprop(), loss='mae')\n",
        "history = model.fit_generator(train_gen,\n",
        "                              steps_per_epoch=500,\n",
        "                              epochs=20,\n",
        "                              validation_data=val_gen,\n",
        "                              validation_steps=val_steps)\n",
        "\n",
        "plot_validation(history, '1d_32_64.png')"
      ],
      "execution_count": 20,
      "outputs": [
        {
          "output_type": "stream",
          "text": [
            "Epoch 1/20\n",
            "500/500 [==============================] - 32s 64ms/step - loss: 0.4367 - val_loss: 0.4767\n",
            "Epoch 2/20\n",
            "500/500 [==============================] - 31s 63ms/step - loss: 0.3957 - val_loss: 0.4403\n",
            "Epoch 3/20\n",
            "500/500 [==============================] - 31s 63ms/step - loss: 0.3864 - val_loss: 0.4703\n",
            "Epoch 4/20\n",
            "500/500 [==============================] - 31s 62ms/step - loss: 0.3831 - val_loss: 0.4923\n",
            "Epoch 5/20\n",
            "500/500 [==============================] - 31s 62ms/step - loss: 0.4094 - val_loss: 0.4771\n",
            "Epoch 6/20\n",
            "500/500 [==============================] - 31s 63ms/step - loss: 0.6916 - val_loss: 1.3442\n",
            "Epoch 7/20\n",
            "500/500 [==============================] - 31s 61ms/step - loss: 2.8858 - val_loss: 3.2525\n",
            "Epoch 8/20\n",
            "500/500 [==============================] - 31s 61ms/step - loss: 10.3354 - val_loss: 24.0305\n",
            "Epoch 9/20\n",
            "500/500 [==============================] - 30s 61ms/step - loss: 28.2371 - val_loss: 13.3398\n",
            "Epoch 10/20\n",
            "500/500 [==============================] - 30s 61ms/step - loss: 61.7966 - val_loss: 25.1486\n",
            "Epoch 11/20\n",
            "500/500 [==============================] - 30s 61ms/step - loss: 113.7276 - val_loss: 203.6687\n",
            "Epoch 12/20\n",
            "500/500 [==============================] - 31s 62ms/step - loss: 187.2981 - val_loss: 272.8774\n",
            "Epoch 13/20\n",
            "500/500 [==============================] - 31s 62ms/step - loss: 285.7181 - val_loss: 190.6306\n",
            "Epoch 14/20\n",
            "500/500 [==============================] - 31s 62ms/step - loss: 406.2832 - val_loss: 683.9695\n",
            "Epoch 15/20\n",
            "500/500 [==============================] - 31s 62ms/step - loss: 556.9677 - val_loss: 448.7838\n",
            "Epoch 16/20\n",
            "500/500 [==============================] - 31s 63ms/step - loss: 729.5757 - val_loss: 296.2623\n",
            "Epoch 17/20\n",
            "500/500 [==============================] - 30s 61ms/step - loss: 929.5067 - val_loss: 648.7401\n",
            "Epoch 18/20\n",
            "500/500 [==============================] - 30s 60ms/step - loss: 1179.5415 - val_loss: 441.8812\n",
            "Epoch 19/20\n",
            "500/500 [==============================] - 31s 61ms/step - loss: 1445.8671 - val_loss: 2613.5535\n",
            "Epoch 20/20\n",
            "500/500 [==============================] - 31s 61ms/step - loss: 1762.9302 - val_loss: 2901.6392\n"
          ],
          "name": "stdout"
        },
        {
          "output_type": "display_data",
          "data": {
            "image/png": "[encoded data removed]",
            "text/plain": [
              "<Figure size 576x396 with 1 Axes>"
            ]
          },
          "metadata": {
            "tags": []
          }
        }
      ]
    },
    {
      "metadata": {
        "id": "gk8eLVhncJbv",
        "colab_type": "text"
      },
      "cell_type": "markdown",
      "source": [
        "Again, this is because our convnet looks for patterns anywhere in the input timeseries, and has no knowledge of the temporal position of a pattern it sees (e.g. towards the beginning, towards the end, etc.). Since more recent datapoints should be interpreted differently from older datapoints in the case of this specific forecasting problem, the convnet fails at producing meaningful results here."
      ]
    },
    {
      "metadata": {
        "id": "rGVv-KebJ2w2",
        "colab_type": "text"
      },
      "cell_type": "markdown",
      "source": [
        "\n",
        "## Going even further\n",
        "\n",
        "At this stage, there are still many other things you could try in order to improve performance on our weather forecasting problem:\n",
        "\n",
        "* Adjust the number of units in each recurrent layer in the stacked setup. Our current choices are largely arbitrary and thus likely \n",
        "suboptimal.\n",
        "* Adjust the learning rate used by our `RMSprop` optimizer.\n",
        "* Try using `LSTM` layers instead of `GRU` layers.\n",
        "* Try using a bigger densely-connected regressor on top of the recurrent layers, i.e. a bigger `Dense` layer or even a stack of `Dense` \n",
        "layers.\n",
        "* Don't forget to eventually run the best performing models (in terms of validation MAE) on the test set! Least you start developing \n",
        "architectures that are overfitting to the validation set.   \n",
        "\n",
        "As usual: deep learning is more an art than a science, and while we can provide guidelines as to what is likely to work or not work on a \n",
        "given problem, ultimately every problem is unique and you will have to try and evaluate different strategies empirically. There is \n",
        "currently no theory that will tell you in advance precisely what you should do to optimally solve a problem. You must try and iterate.\n",
        "\n",
        "\n",
        "## Wrapping up\n",
        "\n",
        "Here's what you should take away from this section:\n",
        "\n",
        "* As you first learned in Chapter 4, when approaching a new problem, \n",
        "it is good to first establish common sense baselines for your metric of choice. If you don't have a \n",
        "baseline to beat, you can't tell if you are making any real progress.\n",
        "* Try simple models before expensive ones, to justify the additional expense. Sometimes a simple model will turn out to be your best option.\n",
        "* On data where temporal ordering matters, recurrent networks are a great fit and easily outperform models that first flatten the temporal \n",
        "data.\n",
        "* To use dropout with recurrent networks, one should use a time-constant dropout mask and recurrent dropout mask. This is built into Keras \n",
        "recurrent layers, so all you have to do is use the `dropout` and `recurrent_dropout` arguments of recurrent layers.\n",
        "* Stacked RNNs provide more representational power than a single RNN layer. They are also much more expensive, and thus not always worth it. \n",
        "While they offer clear gains on complex problems (e.g. machine translation), they might not always be relevant to smaller, simpler problems.\n",
        "* Bidirectional RNNs, which look at a sequence both ways, are very useful on natural language processing problems. However, they will not \n",
        "be strong performers on sequence data where the recent past is much more informative than the beginning of the sequence.\n",
        "\n",
        "Note there are two important concepts that we will not cover in detail here: recurrent \"attention\", and sequence masking. Both tend to be \n",
        "especially relevant for natural language processing, and are not particularly applicable to our temperature forecasting problem. We will \n",
        "leave them for future study outside of this book."
      ]
    }
  ]
}